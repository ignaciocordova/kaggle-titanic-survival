{
 "cells": [
  {
   "cell_type": "code",
   "execution_count": 1,
   "id": "4503c583",
   "metadata": {
    "execution": {
     "iopub.execute_input": "2022-08-23T15:01:55.833726Z",
     "iopub.status.busy": "2022-08-23T15:01:55.833251Z",
     "iopub.status.idle": "2022-08-23T15:01:57.382944Z",
     "shell.execute_reply": "2022-08-23T15:01:57.381516Z"
    },
    "papermill": {
     "duration": 1.566232,
     "end_time": "2022-08-23T15:01:57.385904",
     "exception": false,
     "start_time": "2022-08-23T15:01:55.819672",
     "status": "completed"
    },
    "tags": []
   },
   "outputs": [],
   "source": [
    "import numpy as np \n",
    "import pandas as pd \n",
    "import matplotlib.pyplot as plt \n",
    "\n",
    "from sklearn.compose import ColumnTransformer\n",
    "from sklearn.preprocessing import OneHotEncoder\n",
    "\n",
    "from sklearn.model_selection import train_test_split\n",
    "from sklearn.preprocessing import StandardScaler\n",
    "from sklearn.ensemble import RandomForestClassifier\n",
    "from sklearn.metrics import confusion_matrix, accuracy_score,classification_report\n",
    "\n",
    "import seaborn as sns"
   ]
  },
  {
   "cell_type": "code",
   "execution_count": 2,
   "id": "dcc6d75d",
   "metadata": {
    "execution": {
     "iopub.execute_input": "2022-08-23T15:01:57.408047Z",
     "iopub.status.busy": "2022-08-23T15:01:57.407046Z",
     "iopub.status.idle": "2022-08-23T15:01:57.428229Z",
     "shell.execute_reply": "2022-08-23T15:01:57.427169Z"
    },
    "papermill": {
     "duration": 0.035095,
     "end_time": "2022-08-23T15:01:57.431047",
     "exception": false,
     "start_time": "2022-08-23T15:01:57.395952",
     "status": "completed"
    },
    "tags": []
   },
   "outputs": [],
   "source": [
    "#reading training data\n",
    "df = pd.read_csv(\"/kaggle/input/titanic/train.csv\")"
   ]
  },
  {
   "cell_type": "markdown",
   "id": "ffdea61c",
   "metadata": {
    "papermill": {
     "duration": 0.009159,
     "end_time": "2022-08-23T15:01:57.449754",
     "exception": false,
     "start_time": "2022-08-23T15:01:57.440595",
     "status": "completed"
    },
    "tags": []
   },
   "source": [
    "## Data Exploration "
   ]
  },
  {
   "cell_type": "code",
   "execution_count": 3,
   "id": "2bee6346",
   "metadata": {
    "execution": {
     "iopub.execute_input": "2022-08-23T15:01:57.471742Z",
     "iopub.status.busy": "2022-08-23T15:01:57.470194Z",
     "iopub.status.idle": "2022-08-23T15:01:57.494569Z",
     "shell.execute_reply": "2022-08-23T15:01:57.493607Z"
    },
    "papermill": {
     "duration": 0.037869,
     "end_time": "2022-08-23T15:01:57.497032",
     "exception": false,
     "start_time": "2022-08-23T15:01:57.459163",
     "status": "completed"
    },
    "tags": []
   },
   "outputs": [
    {
     "data": {
      "text/html": [
       "<div>\n",
       "<style scoped>\n",
       "    .dataframe tbody tr th:only-of-type {\n",
       "        vertical-align: middle;\n",
       "    }\n",
       "\n",
       "    .dataframe tbody tr th {\n",
       "        vertical-align: top;\n",
       "    }\n",
       "\n",
       "    .dataframe thead th {\n",
       "        text-align: right;\n",
       "    }\n",
       "</style>\n",
       "<table border=\"1\" class=\"dataframe\">\n",
       "  <thead>\n",
       "    <tr style=\"text-align: right;\">\n",
       "      <th></th>\n",
       "      <th>PassengerId</th>\n",
       "      <th>Survived</th>\n",
       "      <th>Pclass</th>\n",
       "      <th>Name</th>\n",
       "      <th>Sex</th>\n",
       "      <th>Age</th>\n",
       "      <th>SibSp</th>\n",
       "      <th>Parch</th>\n",
       "      <th>Ticket</th>\n",
       "      <th>Fare</th>\n",
       "      <th>Cabin</th>\n",
       "      <th>Embarked</th>\n",
       "    </tr>\n",
       "  </thead>\n",
       "  <tbody>\n",
       "    <tr>\n",
       "      <th>0</th>\n",
       "      <td>1</td>\n",
       "      <td>0</td>\n",
       "      <td>3</td>\n",
       "      <td>Braund, Mr. Owen Harris</td>\n",
       "      <td>male</td>\n",
       "      <td>22.0</td>\n",
       "      <td>1</td>\n",
       "      <td>0</td>\n",
       "      <td>A/5 21171</td>\n",
       "      <td>7.2500</td>\n",
       "      <td>NaN</td>\n",
       "      <td>S</td>\n",
       "    </tr>\n",
       "    <tr>\n",
       "      <th>1</th>\n",
       "      <td>2</td>\n",
       "      <td>1</td>\n",
       "      <td>1</td>\n",
       "      <td>Cumings, Mrs. John Bradley (Florence Briggs Th...</td>\n",
       "      <td>female</td>\n",
       "      <td>38.0</td>\n",
       "      <td>1</td>\n",
       "      <td>0</td>\n",
       "      <td>PC 17599</td>\n",
       "      <td>71.2833</td>\n",
       "      <td>C85</td>\n",
       "      <td>C</td>\n",
       "    </tr>\n",
       "    <tr>\n",
       "      <th>2</th>\n",
       "      <td>3</td>\n",
       "      <td>1</td>\n",
       "      <td>3</td>\n",
       "      <td>Heikkinen, Miss. Laina</td>\n",
       "      <td>female</td>\n",
       "      <td>26.0</td>\n",
       "      <td>0</td>\n",
       "      <td>0</td>\n",
       "      <td>STON/O2. 3101282</td>\n",
       "      <td>7.9250</td>\n",
       "      <td>NaN</td>\n",
       "      <td>S</td>\n",
       "    </tr>\n",
       "    <tr>\n",
       "      <th>3</th>\n",
       "      <td>4</td>\n",
       "      <td>1</td>\n",
       "      <td>1</td>\n",
       "      <td>Futrelle, Mrs. Jacques Heath (Lily May Peel)</td>\n",
       "      <td>female</td>\n",
       "      <td>35.0</td>\n",
       "      <td>1</td>\n",
       "      <td>0</td>\n",
       "      <td>113803</td>\n",
       "      <td>53.1000</td>\n",
       "      <td>C123</td>\n",
       "      <td>S</td>\n",
       "    </tr>\n",
       "    <tr>\n",
       "      <th>4</th>\n",
       "      <td>5</td>\n",
       "      <td>0</td>\n",
       "      <td>3</td>\n",
       "      <td>Allen, Mr. William Henry</td>\n",
       "      <td>male</td>\n",
       "      <td>35.0</td>\n",
       "      <td>0</td>\n",
       "      <td>0</td>\n",
       "      <td>373450</td>\n",
       "      <td>8.0500</td>\n",
       "      <td>NaN</td>\n",
       "      <td>S</td>\n",
       "    </tr>\n",
       "  </tbody>\n",
       "</table>\n",
       "</div>"
      ],
      "text/plain": [
       "   PassengerId  Survived  Pclass  \\\n",
       "0            1         0       3   \n",
       "1            2         1       1   \n",
       "2            3         1       3   \n",
       "3            4         1       1   \n",
       "4            5         0       3   \n",
       "\n",
       "                                                Name     Sex   Age  SibSp  \\\n",
       "0                            Braund, Mr. Owen Harris    male  22.0      1   \n",
       "1  Cumings, Mrs. John Bradley (Florence Briggs Th...  female  38.0      1   \n",
       "2                             Heikkinen, Miss. Laina  female  26.0      0   \n",
       "3       Futrelle, Mrs. Jacques Heath (Lily May Peel)  female  35.0      1   \n",
       "4                           Allen, Mr. William Henry    male  35.0      0   \n",
       "\n",
       "   Parch            Ticket     Fare Cabin Embarked  \n",
       "0      0         A/5 21171   7.2500   NaN        S  \n",
       "1      0          PC 17599  71.2833   C85        C  \n",
       "2      0  STON/O2. 3101282   7.9250   NaN        S  \n",
       "3      0            113803  53.1000  C123        S  \n",
       "4      0            373450   8.0500   NaN        S  "
      ]
     },
     "execution_count": 3,
     "metadata": {},
     "output_type": "execute_result"
    }
   ],
   "source": [
    "df.head()"
   ]
  },
  {
   "cell_type": "code",
   "execution_count": 4,
   "id": "e68cf994",
   "metadata": {
    "execution": {
     "iopub.execute_input": "2022-08-23T15:01:57.520162Z",
     "iopub.status.busy": "2022-08-23T15:01:57.519760Z",
     "iopub.status.idle": "2022-08-23T15:01:57.548194Z",
     "shell.execute_reply": "2022-08-23T15:01:57.546674Z"
    },
    "papermill": {
     "duration": 0.042443,
     "end_time": "2022-08-23T15:01:57.550809",
     "exception": false,
     "start_time": "2022-08-23T15:01:57.508366",
     "status": "completed"
    },
    "tags": []
   },
   "outputs": [
    {
     "name": "stdout",
     "output_type": "stream",
     "text": [
      "<class 'pandas.core.frame.DataFrame'>\n",
      "RangeIndex: 891 entries, 0 to 890\n",
      "Data columns (total 12 columns):\n",
      " #   Column       Non-Null Count  Dtype  \n",
      "---  ------       --------------  -----  \n",
      " 0   PassengerId  891 non-null    int64  \n",
      " 1   Survived     891 non-null    int64  \n",
      " 2   Pclass       891 non-null    int64  \n",
      " 3   Name         891 non-null    object \n",
      " 4   Sex          891 non-null    object \n",
      " 5   Age          714 non-null    float64\n",
      " 6   SibSp        891 non-null    int64  \n",
      " 7   Parch        891 non-null    int64  \n",
      " 8   Ticket       891 non-null    object \n",
      " 9   Fare         891 non-null    float64\n",
      " 10  Cabin        204 non-null    object \n",
      " 11  Embarked     889 non-null    object \n",
      "dtypes: float64(2), int64(5), object(5)\n",
      "memory usage: 83.7+ KB\n"
     ]
    }
   ],
   "source": [
    "df.info()"
   ]
  },
  {
   "cell_type": "markdown",
   "id": "f3b99496",
   "metadata": {
    "papermill": {
     "duration": 0.009561,
     "end_time": "2022-08-23T15:01:57.570499",
     "exception": false,
     "start_time": "2022-08-23T15:01:57.560938",
     "status": "completed"
    },
    "tags": []
   },
   "source": [
    "## Taking care of NaN values and missing data"
   ]
  },
  {
   "cell_type": "code",
   "execution_count": 5,
   "id": "50c1a553",
   "metadata": {
    "execution": {
     "iopub.execute_input": "2022-08-23T15:01:57.591551Z",
     "iopub.status.busy": "2022-08-23T15:01:57.591105Z",
     "iopub.status.idle": "2022-08-23T15:01:57.605941Z",
     "shell.execute_reply": "2022-08-23T15:01:57.604577Z"
    },
    "papermill": {
     "duration": 0.028442,
     "end_time": "2022-08-23T15:01:57.608505",
     "exception": false,
     "start_time": "2022-08-23T15:01:57.580063",
     "status": "completed"
    },
    "tags": []
   },
   "outputs": [],
   "source": [
    "#Most of 'Cabin' values are missing so let's just drop the feature\n",
    "df.drop(['Cabin'],\n",
    "        axis=1,\n",
    "        inplace=True)\n",
    "\n",
    "#I decided to still use the 'Age' feature despite the 177 Nan values \n",
    "df['Age'].fillna(df['Age'].mean(),\n",
    "                 inplace=True)\n",
    "\n",
    "#There is a couple of Nan values still on the 'Embarked' feature which we can drop \n",
    "df.dropna(inplace=True)\n"
   ]
  },
  {
   "cell_type": "code",
   "execution_count": 6,
   "id": "e77d42bc",
   "metadata": {
    "execution": {
     "iopub.execute_input": "2022-08-23T15:01:57.629754Z",
     "iopub.status.busy": "2022-08-23T15:01:57.629075Z",
     "iopub.status.idle": "2022-08-23T15:01:57.663565Z",
     "shell.execute_reply": "2022-08-23T15:01:57.662232Z"
    },
    "papermill": {
     "duration": 0.047966,
     "end_time": "2022-08-23T15:01:57.666093",
     "exception": false,
     "start_time": "2022-08-23T15:01:57.618127",
     "status": "completed"
    },
    "tags": []
   },
   "outputs": [
    {
     "data": {
      "text/html": [
       "<div>\n",
       "<style scoped>\n",
       "    .dataframe tbody tr th:only-of-type {\n",
       "        vertical-align: middle;\n",
       "    }\n",
       "\n",
       "    .dataframe tbody tr th {\n",
       "        vertical-align: top;\n",
       "    }\n",
       "\n",
       "    .dataframe thead th {\n",
       "        text-align: right;\n",
       "    }\n",
       "</style>\n",
       "<table border=\"1\" class=\"dataframe\">\n",
       "  <thead>\n",
       "    <tr style=\"text-align: right;\">\n",
       "      <th></th>\n",
       "      <th>PassengerId</th>\n",
       "      <th>Survived</th>\n",
       "      <th>Pclass</th>\n",
       "      <th>Age</th>\n",
       "      <th>SibSp</th>\n",
       "      <th>Parch</th>\n",
       "      <th>Fare</th>\n",
       "    </tr>\n",
       "  </thead>\n",
       "  <tbody>\n",
       "    <tr>\n",
       "      <th>count</th>\n",
       "      <td>889.000000</td>\n",
       "      <td>889.000000</td>\n",
       "      <td>889.000000</td>\n",
       "      <td>889.000000</td>\n",
       "      <td>889.000000</td>\n",
       "      <td>889.000000</td>\n",
       "      <td>889.000000</td>\n",
       "    </tr>\n",
       "    <tr>\n",
       "      <th>mean</th>\n",
       "      <td>446.000000</td>\n",
       "      <td>0.382452</td>\n",
       "      <td>2.311586</td>\n",
       "      <td>29.653446</td>\n",
       "      <td>0.524184</td>\n",
       "      <td>0.382452</td>\n",
       "      <td>32.096681</td>\n",
       "    </tr>\n",
       "    <tr>\n",
       "      <th>std</th>\n",
       "      <td>256.998173</td>\n",
       "      <td>0.486260</td>\n",
       "      <td>0.834700</td>\n",
       "      <td>12.968366</td>\n",
       "      <td>1.103705</td>\n",
       "      <td>0.806761</td>\n",
       "      <td>49.697504</td>\n",
       "    </tr>\n",
       "    <tr>\n",
       "      <th>min</th>\n",
       "      <td>1.000000</td>\n",
       "      <td>0.000000</td>\n",
       "      <td>1.000000</td>\n",
       "      <td>0.420000</td>\n",
       "      <td>0.000000</td>\n",
       "      <td>0.000000</td>\n",
       "      <td>0.000000</td>\n",
       "    </tr>\n",
       "    <tr>\n",
       "      <th>25%</th>\n",
       "      <td>224.000000</td>\n",
       "      <td>0.000000</td>\n",
       "      <td>2.000000</td>\n",
       "      <td>22.000000</td>\n",
       "      <td>0.000000</td>\n",
       "      <td>0.000000</td>\n",
       "      <td>7.895800</td>\n",
       "    </tr>\n",
       "    <tr>\n",
       "      <th>50%</th>\n",
       "      <td>446.000000</td>\n",
       "      <td>0.000000</td>\n",
       "      <td>3.000000</td>\n",
       "      <td>29.699118</td>\n",
       "      <td>0.000000</td>\n",
       "      <td>0.000000</td>\n",
       "      <td>14.454200</td>\n",
       "    </tr>\n",
       "    <tr>\n",
       "      <th>75%</th>\n",
       "      <td>668.000000</td>\n",
       "      <td>1.000000</td>\n",
       "      <td>3.000000</td>\n",
       "      <td>35.000000</td>\n",
       "      <td>1.000000</td>\n",
       "      <td>0.000000</td>\n",
       "      <td>31.000000</td>\n",
       "    </tr>\n",
       "    <tr>\n",
       "      <th>max</th>\n",
       "      <td>891.000000</td>\n",
       "      <td>1.000000</td>\n",
       "      <td>3.000000</td>\n",
       "      <td>80.000000</td>\n",
       "      <td>8.000000</td>\n",
       "      <td>6.000000</td>\n",
       "      <td>512.329200</td>\n",
       "    </tr>\n",
       "  </tbody>\n",
       "</table>\n",
       "</div>"
      ],
      "text/plain": [
       "       PassengerId    Survived      Pclass         Age       SibSp  \\\n",
       "count   889.000000  889.000000  889.000000  889.000000  889.000000   \n",
       "mean    446.000000    0.382452    2.311586   29.653446    0.524184   \n",
       "std     256.998173    0.486260    0.834700   12.968366    1.103705   \n",
       "min       1.000000    0.000000    1.000000    0.420000    0.000000   \n",
       "25%     224.000000    0.000000    2.000000   22.000000    0.000000   \n",
       "50%     446.000000    0.000000    3.000000   29.699118    0.000000   \n",
       "75%     668.000000    1.000000    3.000000   35.000000    1.000000   \n",
       "max     891.000000    1.000000    3.000000   80.000000    8.000000   \n",
       "\n",
       "            Parch        Fare  \n",
       "count  889.000000  889.000000  \n",
       "mean     0.382452   32.096681  \n",
       "std      0.806761   49.697504  \n",
       "min      0.000000    0.000000  \n",
       "25%      0.000000    7.895800  \n",
       "50%      0.000000   14.454200  \n",
       "75%      0.000000   31.000000  \n",
       "max      6.000000  512.329200  "
      ]
     },
     "execution_count": 6,
     "metadata": {},
     "output_type": "execute_result"
    }
   ],
   "source": [
    "df.describe()"
   ]
  },
  {
   "cell_type": "markdown",
   "id": "dfa2e5fd",
   "metadata": {
    "papermill": {
     "duration": 0.009745,
     "end_time": "2022-08-23T15:01:57.686007",
     "exception": false,
     "start_time": "2022-08-23T15:01:57.676262",
     "status": "completed"
    },
    "tags": []
   },
   "source": [
    "## In depth Data Exploration "
   ]
  },
  {
   "cell_type": "markdown",
   "id": "90323333",
   "metadata": {
    "papermill": {
     "duration": 0.009945,
     "end_time": "2022-08-23T15:01:57.707423",
     "exception": false,
     "start_time": "2022-08-23T15:01:57.697478",
     "status": "completed"
    },
    "tags": []
   },
   "source": [
    "I start by exploring the numerical and the categorical data separately "
   ]
  },
  {
   "cell_type": "code",
   "execution_count": 7,
   "id": "e515d6ab",
   "metadata": {
    "execution": {
     "iopub.execute_input": "2022-08-23T15:01:57.729376Z",
     "iopub.status.busy": "2022-08-23T15:01:57.728952Z",
     "iopub.status.idle": "2022-08-23T15:01:57.736536Z",
     "shell.execute_reply": "2022-08-23T15:01:57.735304Z"
    },
    "papermill": {
     "duration": 0.021218,
     "end_time": "2022-08-23T15:01:57.738706",
     "exception": false,
     "start_time": "2022-08-23T15:01:57.717488",
     "status": "completed"
    },
    "tags": []
   },
   "outputs": [],
   "source": [
    "df_num = df[['Age','SibSp','Parch','Fare']]\n",
    "df_cat = df[['Survived','Pclass','Sex','Embarked']]"
   ]
  },
  {
   "cell_type": "markdown",
   "id": "cc1ac736",
   "metadata": {
    "papermill": {
     "duration": 0.01002,
     "end_time": "2022-08-23T15:01:57.758891",
     "exception": false,
     "start_time": "2022-08-23T15:01:57.748871",
     "status": "completed"
    },
    "tags": []
   },
   "source": [
    "### Numerical Data \n",
    "\n",
    "In order to ovisualize the distributions of each fiture it is usefull to build histograms. "
   ]
  },
  {
   "cell_type": "code",
   "execution_count": 8,
   "id": "780f5a66",
   "metadata": {
    "execution": {
     "iopub.execute_input": "2022-08-23T15:01:57.781518Z",
     "iopub.status.busy": "2022-08-23T15:01:57.781121Z",
     "iopub.status.idle": "2022-08-23T15:01:58.412887Z",
     "shell.execute_reply": "2022-08-23T15:01:58.411592Z"
    },
    "papermill": {
     "duration": 0.647547,
     "end_time": "2022-08-23T15:01:58.417073",
     "exception": false,
     "start_time": "2022-08-23T15:01:57.769526",
     "status": "completed"
    },
    "tags": []
   },
   "outputs": [
    {
     "data": {
      "image/png": "[encoded data removed]",
      "text/plain": [
       "<Figure size 432x288 with 1 Axes>"
      ]
     },
     "metadata": {
      "needs_background": "light"
     },
     "output_type": "display_data"
    },
    {
     "data": {
      "image/png": "[encoded data removed]",
      "text/plain": [
       "<Figure size 432x288 with 1 Axes>"
      ]
     },
     "metadata": {
      "needs_background": "light"
     },
     "output_type": "display_data"
    },
    {
     "data": {
      "image/png": "[encoded data removed]",
      "text/plain": [
       "<Figure size 432x288 with 1 Axes>"
      ]
     },
     "metadata": {
      "needs_background": "light"
     },
     "output_type": "display_data"
    },
    {
     "data": {
      "image/png": "[encoded data removed]",
      "text/plain": [
       "<Figure size 432x288 with 1 Axes>"
      ]
     },
     "metadata": {
      "needs_background": "light"
     },
     "output_type": "display_data"
    }
   ],
   "source": [
    "for col in df_num.columns:\n",
    "    plt.hist(df_num[col])\n",
    "    plt.title(col)\n",
    "    plt.show()"
   ]
  },
  {
   "cell_type": "markdown",
   "id": "a9e5bc71",
   "metadata": {
    "papermill": {
     "duration": 0.010681,
     "end_time": "2022-08-23T15:01:58.439839",
     "exception": false,
     "start_time": "2022-08-23T15:01:58.429158",
     "status": "completed"
    },
    "tags": []
   },
   "source": [
    "Next I look for possible relationships between the numerical data and the output 'Survived'"
   ]
  },
  {
   "cell_type": "code",
   "execution_count": 9,
   "id": "53516c83",
   "metadata": {
    "execution": {
     "iopub.execute_input": "2022-08-23T15:01:58.463813Z",
     "iopub.status.busy": "2022-08-23T15:01:58.462906Z",
     "iopub.status.idle": "2022-08-23T15:01:58.493392Z",
     "shell.execute_reply": "2022-08-23T15:01:58.492205Z"
    },
    "papermill": {
     "duration": 0.045119,
     "end_time": "2022-08-23T15:01:58.495867",
     "exception": false,
     "start_time": "2022-08-23T15:01:58.450748",
     "status": "completed"
    },
    "tags": []
   },
   "outputs": [
    {
     "data": {
      "text/html": [
       "<div>\n",
       "<style scoped>\n",
       "    .dataframe tbody tr th:only-of-type {\n",
       "        vertical-align: middle;\n",
       "    }\n",
       "\n",
       "    .dataframe tbody tr th {\n",
       "        vertical-align: top;\n",
       "    }\n",
       "\n",
       "    .dataframe thead tr th {\n",
       "        text-align: left;\n",
       "    }\n",
       "\n",
       "    .dataframe thead tr:last-of-type th {\n",
       "        text-align: right;\n",
       "    }\n",
       "</style>\n",
       "<table border=\"1\" class=\"dataframe\">\n",
       "  <thead>\n",
       "    <tr>\n",
       "      <th></th>\n",
       "      <th colspan=\"4\" halign=\"left\">mean</th>\n",
       "    </tr>\n",
       "    <tr>\n",
       "      <th></th>\n",
       "      <th>Age</th>\n",
       "      <th>Fare</th>\n",
       "      <th>Parch</th>\n",
       "      <th>SibSp</th>\n",
       "    </tr>\n",
       "    <tr>\n",
       "      <th>Survived</th>\n",
       "      <th></th>\n",
       "      <th></th>\n",
       "      <th></th>\n",
       "      <th></th>\n",
       "    </tr>\n",
       "  </thead>\n",
       "  <tbody>\n",
       "    <tr>\n",
       "      <th>0</th>\n",
       "      <td>30.4151</td>\n",
       "      <td>22.117887</td>\n",
       "      <td>0.329690</td>\n",
       "      <td>0.553734</td>\n",
       "    </tr>\n",
       "    <tr>\n",
       "      <th>1</th>\n",
       "      <td>28.4236</td>\n",
       "      <td>48.209498</td>\n",
       "      <td>0.467647</td>\n",
       "      <td>0.476471</td>\n",
       "    </tr>\n",
       "  </tbody>\n",
       "</table>\n",
       "</div>"
      ],
      "text/plain": [
       "             mean                               \n",
       "              Age       Fare     Parch     SibSp\n",
       "Survived                                        \n",
       "0         30.4151  22.117887  0.329690  0.553734\n",
       "1         28.4236  48.209498  0.467647  0.476471"
      ]
     },
     "execution_count": 9,
     "metadata": {},
     "output_type": "execute_result"
    }
   ],
   "source": [
    "pd.pivot_table(df, index = 'Survived',\n",
    "               aggfunc=[np.mean], \n",
    "               values = df_num.columns)"
   ]
  },
  {
   "cell_type": "markdown",
   "id": "0f87da75",
   "metadata": {
    "papermill": {
     "duration": 0.010877,
     "end_time": "2022-08-23T15:01:58.518181",
     "exception": false,
     "start_time": "2022-08-23T15:01:58.507304",
     "status": "completed"
    },
    "tags": []
   },
   "source": [
    "It appears as if the young (avg age=28.4) and rich (avg fare=48) had a higher chance of surviving. \n",
    "Also those who had parents/children aboard the Titanic."
   ]
  },
  {
   "cell_type": "markdown",
   "id": "84f91dd3",
   "metadata": {
    "papermill": {
     "duration": 0.010889,
     "end_time": "2022-08-23T15:01:58.540666",
     "exception": false,
     "start_time": "2022-08-23T15:01:58.529777",
     "status": "completed"
    },
    "tags": []
   },
   "source": [
    "### Categorical Data\n",
    "For the categorical data we can display barplots representing the distributions of each feature: "
   ]
  },
  {
   "cell_type": "code",
   "execution_count": 10,
   "id": "6ce525aa",
   "metadata": {
    "execution": {
     "iopub.execute_input": "2022-08-23T15:01:58.564885Z",
     "iopub.status.busy": "2022-08-23T15:01:58.564473Z",
     "iopub.status.idle": "2022-08-23T15:01:59.267613Z",
     "shell.execute_reply": "2022-08-23T15:01:59.266572Z"
    },
    "papermill": {
     "duration": 0.718412,
     "end_time": "2022-08-23T15:01:59.270320",
     "exception": false,
     "start_time": "2022-08-23T15:01:58.551908",
     "status": "completed"
    },
    "tags": []
   },
   "outputs": [
    {
     "name": "stderr",
     "output_type": "stream",
     "text": [
      "/opt/conda/lib/python3.7/site-packages/seaborn/_decorators.py:43: FutureWarning: Pass the following variables as keyword args: x, y. From version 0.12, the only valid positional argument will be `data`, and passing other arguments without an explicit keyword will result in an error or misinterpretation.\n",
      "  FutureWarning\n"
     ]
    },
    {
     "data": {
      "image/png": "[encoded data removed]",
      "text/plain": [
       "<Figure size 432x288 with 1 Axes>"
      ]
     },
     "metadata": {
      "needs_background": "light"
     },
     "output_type": "display_data"
    },
    {
     "name": "stderr",
     "output_type": "stream",
     "text": [
      "/opt/conda/lib/python3.7/site-packages/seaborn/_decorators.py:43: FutureWarning: Pass the following variables as keyword args: x, y. From version 0.12, the only valid positional argument will be `data`, and passing other arguments without an explicit keyword will result in an error or misinterpretation.\n",
      "  FutureWarning\n"
     ]
    },
    {
     "data": {
      "image/png": "[encoded data removed]",
      "text/plain": [
       "<Figure size 432x288 with 1 Axes>"
      ]
     },
     "metadata": {
      "needs_background": "light"
     },
     "output_type": "display_data"
    },
    {
     "name": "stderr",
     "output_type": "stream",
     "text": [
      "/opt/conda/lib/python3.7/site-packages/seaborn/_decorators.py:43: FutureWarning: Pass the following variables as keyword args: x, y. From version 0.12, the only valid positional argument will be `data`, and passing other arguments without an explicit keyword will result in an error or misinterpretation.\n",
      "  FutureWarning\n"
     ]
    },
    {
     "data": {
      "image/png": "[encoded data removed]",
      "text/plain": [
       "<Figure size 432x288 with 1 Axes>"
      ]
     },
     "metadata": {
      "needs_background": "light"
     },
     "output_type": "display_data"
    },
    {
     "name": "stderr",
     "output_type": "stream",
     "text": [
      "/opt/conda/lib/python3.7/site-packages/seaborn/_decorators.py:43: FutureWarning: Pass the following variables as keyword args: x, y. From version 0.12, the only valid positional argument will be `data`, and passing other arguments without an explicit keyword will result in an error or misinterpretation.\n",
      "  FutureWarning\n"
     ]
    },
    {
     "data": {
      "image/png": "[encoded data removed]",
      "text/plain": [
       "<Figure size 432x288 with 1 Axes>"
      ]
     },
     "metadata": {
      "needs_background": "light"
     },
     "output_type": "display_data"
    }
   ],
   "source": [
    "for col in df_cat.columns:\n",
    "    sns.barplot(df_cat[col].value_counts().index, df_cat[col].value_counts()).set_title(col)\n",
    "    plt.show()"
   ]
  },
  {
   "cell_type": "code",
   "execution_count": 11,
   "id": "bf57904e",
   "metadata": {
    "execution": {
     "iopub.execute_input": "2022-08-23T15:01:59.297778Z",
     "iopub.status.busy": "2022-08-23T15:01:59.297383Z",
     "iopub.status.idle": "2022-08-23T15:01:59.335575Z",
     "shell.execute_reply": "2022-08-23T15:01:59.333727Z"
    },
    "papermill": {
     "duration": 0.054883,
     "end_time": "2022-08-23T15:01:59.338238",
     "exception": false,
     "start_time": "2022-08-23T15:01:59.283355",
     "status": "completed"
    },
    "tags": []
   },
   "outputs": [
    {
     "name": "stdout",
     "output_type": "stream",
     "text": [
      "Pclass      1   2    3\n",
      "Survived              \n",
      "0          80  97  372\n",
      "1         134  87  119\n",
      "\n",
      "Sex       female  male\n",
      "Survived              \n",
      "0             81   468\n",
      "1            231   109\n",
      "\n",
      "Embarked   C   Q    S\n",
      "Survived             \n",
      "0         75  47  427\n",
      "1         93  30  217\n"
     ]
    }
   ],
   "source": [
    "# Comparing survival and each of these categorical variables \n",
    "print(pd.pivot_table(df, index = 'Survived', columns = 'Pclass', values = 'PassengerId' ,aggfunc ='count'))\n",
    "print()\n",
    "print(pd.pivot_table(df, index = 'Survived', columns = 'Sex', values = 'PassengerId' ,aggfunc ='count'))\n",
    "print()\n",
    "print(pd.pivot_table(df, index = 'Survived', columns = 'Embarked', values = 'PassengerId' ,aggfunc ='count'))"
   ]
  },
  {
   "cell_type": "markdown",
   "id": "7032a56e",
   "metadata": {
    "papermill": {
     "duration": 0.012234,
     "end_time": "2022-08-23T15:01:59.363251",
     "exception": false,
     "start_time": "2022-08-23T15:01:59.351017",
     "status": "completed"
    },
    "tags": []
   },
   "source": [
    "On the one hand, traveling in \"First Class\" may have increased your chances of surviving since 134 out of the 214 survived. On the other hand, \"Third Class\" travelers had little chances of surviving.\n",
    "\n",
    "Female passangers were dembarked first and had a higher chance of surviving while approximately 5 out of every 6 male passengers died. \n",
    "\n",
    "The ratios of survival of each port are very similar. "
   ]
  },
  {
   "cell_type": "code",
   "execution_count": 12,
   "id": "5ec27932",
   "metadata": {
    "execution": {
     "iopub.execute_input": "2022-08-23T15:01:59.390441Z",
     "iopub.status.busy": "2022-08-23T15:01:59.390033Z",
     "iopub.status.idle": "2022-08-23T15:01:59.396934Z",
     "shell.execute_reply": "2022-08-23T15:01:59.395803Z"
    },
    "papermill": {
     "duration": 0.023627,
     "end_time": "2022-08-23T15:01:59.399346",
     "exception": false,
     "start_time": "2022-08-23T15:01:59.375719",
     "status": "completed"
    },
    "tags": []
   },
   "outputs": [],
   "source": [
    "#select columns to be used in training\n",
    "good_features = ['Pclass','Sex','Age','SibSp','Parch','Fare','Embarked']\n",
    "X = df[good_features]\n",
    "y = df.Survived"
   ]
  },
  {
   "cell_type": "code",
   "execution_count": 13,
   "id": "0ed4c486",
   "metadata": {
    "execution": {
     "iopub.execute_input": "2022-08-23T15:01:59.426222Z",
     "iopub.status.busy": "2022-08-23T15:01:59.425839Z",
     "iopub.status.idle": "2022-08-23T15:01:59.446571Z",
     "shell.execute_reply": "2022-08-23T15:01:59.445326Z"
    },
    "papermill": {
     "duration": 0.0368,
     "end_time": "2022-08-23T15:01:59.448658",
     "exception": false,
     "start_time": "2022-08-23T15:01:59.411858",
     "status": "completed"
    },
    "tags": []
   },
   "outputs": [
    {
     "data": {
      "text/html": [
       "<div>\n",
       "<style scoped>\n",
       "    .dataframe tbody tr th:only-of-type {\n",
       "        vertical-align: middle;\n",
       "    }\n",
       "\n",
       "    .dataframe tbody tr th {\n",
       "        vertical-align: top;\n",
       "    }\n",
       "\n",
       "    .dataframe thead th {\n",
       "        text-align: right;\n",
       "    }\n",
       "</style>\n",
       "<table border=\"1\" class=\"dataframe\">\n",
       "  <thead>\n",
       "    <tr style=\"text-align: right;\">\n",
       "      <th></th>\n",
       "      <th>Pclass</th>\n",
       "      <th>Sex</th>\n",
       "      <th>Age</th>\n",
       "      <th>SibSp</th>\n",
       "      <th>Parch</th>\n",
       "      <th>Fare</th>\n",
       "      <th>Embarked</th>\n",
       "    </tr>\n",
       "  </thead>\n",
       "  <tbody>\n",
       "    <tr>\n",
       "      <th>0</th>\n",
       "      <td>3</td>\n",
       "      <td>male</td>\n",
       "      <td>22.000000</td>\n",
       "      <td>1</td>\n",
       "      <td>0</td>\n",
       "      <td>7.2500</td>\n",
       "      <td>S</td>\n",
       "    </tr>\n",
       "    <tr>\n",
       "      <th>1</th>\n",
       "      <td>1</td>\n",
       "      <td>female</td>\n",
       "      <td>38.000000</td>\n",
       "      <td>1</td>\n",
       "      <td>0</td>\n",
       "      <td>71.2833</td>\n",
       "      <td>C</td>\n",
       "    </tr>\n",
       "    <tr>\n",
       "      <th>2</th>\n",
       "      <td>3</td>\n",
       "      <td>female</td>\n",
       "      <td>26.000000</td>\n",
       "      <td>0</td>\n",
       "      <td>0</td>\n",
       "      <td>7.9250</td>\n",
       "      <td>S</td>\n",
       "    </tr>\n",
       "    <tr>\n",
       "      <th>3</th>\n",
       "      <td>1</td>\n",
       "      <td>female</td>\n",
       "      <td>35.000000</td>\n",
       "      <td>1</td>\n",
       "      <td>0</td>\n",
       "      <td>53.1000</td>\n",
       "      <td>S</td>\n",
       "    </tr>\n",
       "    <tr>\n",
       "      <th>4</th>\n",
       "      <td>3</td>\n",
       "      <td>male</td>\n",
       "      <td>35.000000</td>\n",
       "      <td>0</td>\n",
       "      <td>0</td>\n",
       "      <td>8.0500</td>\n",
       "      <td>S</td>\n",
       "    </tr>\n",
       "    <tr>\n",
       "      <th>...</th>\n",
       "      <td>...</td>\n",
       "      <td>...</td>\n",
       "      <td>...</td>\n",
       "      <td>...</td>\n",
       "      <td>...</td>\n",
       "      <td>...</td>\n",
       "      <td>...</td>\n",
       "    </tr>\n",
       "    <tr>\n",
       "      <th>886</th>\n",
       "      <td>2</td>\n",
       "      <td>male</td>\n",
       "      <td>27.000000</td>\n",
       "      <td>0</td>\n",
       "      <td>0</td>\n",
       "      <td>13.0000</td>\n",
       "      <td>S</td>\n",
       "    </tr>\n",
       "    <tr>\n",
       "      <th>887</th>\n",
       "      <td>1</td>\n",
       "      <td>female</td>\n",
       "      <td>19.000000</td>\n",
       "      <td>0</td>\n",
       "      <td>0</td>\n",
       "      <td>30.0000</td>\n",
       "      <td>S</td>\n",
       "    </tr>\n",
       "    <tr>\n",
       "      <th>888</th>\n",
       "      <td>3</td>\n",
       "      <td>female</td>\n",
       "      <td>29.699118</td>\n",
       "      <td>1</td>\n",
       "      <td>2</td>\n",
       "      <td>23.4500</td>\n",
       "      <td>S</td>\n",
       "    </tr>\n",
       "    <tr>\n",
       "      <th>889</th>\n",
       "      <td>1</td>\n",
       "      <td>male</td>\n",
       "      <td>26.000000</td>\n",
       "      <td>0</td>\n",
       "      <td>0</td>\n",
       "      <td>30.0000</td>\n",
       "      <td>C</td>\n",
       "    </tr>\n",
       "    <tr>\n",
       "      <th>890</th>\n",
       "      <td>3</td>\n",
       "      <td>male</td>\n",
       "      <td>32.000000</td>\n",
       "      <td>0</td>\n",
       "      <td>0</td>\n",
       "      <td>7.7500</td>\n",
       "      <td>Q</td>\n",
       "    </tr>\n",
       "  </tbody>\n",
       "</table>\n",
       "<p>889 rows × 7 columns</p>\n",
       "</div>"
      ],
      "text/plain": [
       "     Pclass     Sex        Age  SibSp  Parch     Fare Embarked\n",
       "0         3    male  22.000000      1      0   7.2500        S\n",
       "1         1  female  38.000000      1      0  71.2833        C\n",
       "2         3  female  26.000000      0      0   7.9250        S\n",
       "3         1  female  35.000000      1      0  53.1000        S\n",
       "4         3    male  35.000000      0      0   8.0500        S\n",
       "..      ...     ...        ...    ...    ...      ...      ...\n",
       "886       2    male  27.000000      0      0  13.0000        S\n",
       "887       1  female  19.000000      0      0  30.0000        S\n",
       "888       3  female  29.699118      1      2  23.4500        S\n",
       "889       1    male  26.000000      0      0  30.0000        C\n",
       "890       3    male  32.000000      0      0   7.7500        Q\n",
       "\n",
       "[889 rows x 7 columns]"
      ]
     },
     "execution_count": 13,
     "metadata": {},
     "output_type": "execute_result"
    }
   ],
   "source": [
    "X"
   ]
  },
  {
   "cell_type": "markdown",
   "id": "e0fe0cb5",
   "metadata": {
    "papermill": {
     "duration": 0.012543,
     "end_time": "2022-08-23T15:01:59.474316",
     "exception": false,
     "start_time": "2022-08-23T15:01:59.461773",
     "status": "completed"
    },
    "tags": []
   },
   "source": [
    "### Encoding Categorical Data using One Hot Encoder"
   ]
  },
  {
   "cell_type": "markdown",
   "id": "d46fe319",
   "metadata": {
    "papermill": {
     "duration": 0.012374,
     "end_time": "2022-08-23T15:01:59.499425",
     "exception": false,
     "start_time": "2022-08-23T15:01:59.487051",
     "status": "completed"
    },
    "tags": []
   },
   "source": [
    "After the following transformations, the matrix X will have 12 columns: 3 clomuns corresponding to the feature 'Pclass', 2 columns for the 'Sex' feature, 3 columns for the 'Embarked' feature and 1 column for the rest of the features. "
   ]
  },
  {
   "cell_type": "code",
   "execution_count": 14,
   "id": "892e31d2",
   "metadata": {
    "execution": {
     "iopub.execute_input": "2022-08-23T15:01:59.526418Z",
     "iopub.status.busy": "2022-08-23T15:01:59.525972Z",
     "iopub.status.idle": "2022-08-23T15:01:59.540124Z",
     "shell.execute_reply": "2022-08-23T15:01:59.539049Z"
    },
    "papermill": {
     "duration": 0.030371,
     "end_time": "2022-08-23T15:01:59.542457",
     "exception": false,
     "start_time": "2022-08-23T15:01:59.512086",
     "status": "completed"
    },
    "tags": []
   },
   "outputs": [
    {
     "data": {
      "text/plain": [
       "(889, 12)"
      ]
     },
     "execution_count": 14,
     "metadata": {},
     "output_type": "execute_result"
    }
   ],
   "source": [
    "# \"ct\" stands for the object of the Column Transformer class \n",
    "# transformers specifies the kind of transformation we want to perform and \n",
    "# to which column ([0]) ; remainder tells what to do with the rest of the columns \n",
    "ct = ColumnTransformer(transformers=[('encoder', OneHotEncoder(), [0,1,6])], \n",
    "                       remainder='passthrough')\n",
    "X = np.array(ct.fit_transform(X))\n",
    "X.shape"
   ]
  },
  {
   "cell_type": "code",
   "execution_count": 15,
   "id": "d5420986",
   "metadata": {
    "execution": {
     "iopub.execute_input": "2022-08-23T15:01:59.569727Z",
     "iopub.status.busy": "2022-08-23T15:01:59.569301Z",
     "iopub.status.idle": "2022-08-23T15:01:59.576251Z",
     "shell.execute_reply": "2022-08-23T15:01:59.575055Z"
    },
    "papermill": {
     "duration": 0.023375,
     "end_time": "2022-08-23T15:01:59.578626",
     "exception": false,
     "start_time": "2022-08-23T15:01:59.555251",
     "status": "completed"
    },
    "tags": []
   },
   "outputs": [],
   "source": [
    "#split dataset into trainig and cross-validation data from training data\n",
    "X_train, X_val, y_train, y_val = train_test_split(X,y,random_state = 0,test_size=0.3)"
   ]
  },
  {
   "cell_type": "markdown",
   "id": "bd5f53a7",
   "metadata": {
    "papermill": {
     "duration": 0.013437,
     "end_time": "2022-08-23T15:01:59.604985",
     "exception": false,
     "start_time": "2022-08-23T15:01:59.591548",
     "status": "completed"
    },
    "tags": []
   },
   "source": [
    "## After the training and c-validating sets have been splitted we can define the Feature Sclaing transformation using the training set and apply it to both the training set and the cv set. "
   ]
  },
  {
   "cell_type": "code",
   "execution_count": 16,
   "id": "084587ad",
   "metadata": {
    "execution": {
     "iopub.execute_input": "2022-08-23T15:01:59.633920Z",
     "iopub.status.busy": "2022-08-23T15:01:59.633558Z",
     "iopub.status.idle": "2022-08-23T15:01:59.640338Z",
     "shell.execute_reply": "2022-08-23T15:01:59.639490Z"
    },
    "papermill": {
     "duration": 0.023684,
     "end_time": "2022-08-23T15:01:59.642521",
     "exception": false,
     "start_time": "2022-08-23T15:01:59.618837",
     "status": "completed"
    },
    "tags": []
   },
   "outputs": [],
   "source": [
    "sc = StandardScaler()\n",
    "X_train[:,8:] = sc.fit_transform(X_train[:,8:])\n",
    "X_val[:,8:] = sc.transform(X_val[:,8:])"
   ]
  },
  {
   "cell_type": "markdown",
   "id": "aca60dfd",
   "metadata": {
    "papermill": {
     "duration": 0.012518,
     "end_time": "2022-08-23T15:01:59.667967",
     "exception": false,
     "start_time": "2022-08-23T15:01:59.655449",
     "status": "completed"
    },
    "tags": []
   },
   "source": [
    "## Building the model and training it"
   ]
  },
  {
   "cell_type": "code",
   "execution_count": 17,
   "id": "bdfe68e4",
   "metadata": {
    "execution": {
     "iopub.execute_input": "2022-08-23T15:01:59.695521Z",
     "iopub.status.busy": "2022-08-23T15:01:59.695122Z",
     "iopub.status.idle": "2022-08-23T15:01:59.869125Z",
     "shell.execute_reply": "2022-08-23T15:01:59.868087Z"
    },
    "papermill": {
     "duration": 0.191118,
     "end_time": "2022-08-23T15:01:59.871868",
     "exception": false,
     "start_time": "2022-08-23T15:01:59.680750",
     "status": "completed"
    },
    "tags": []
   },
   "outputs": [
    {
     "data": {
      "text/plain": [
       "RandomForestClassifier(min_samples_leaf=7, min_samples_split=10)"
      ]
     },
     "execution_count": 17,
     "metadata": {},
     "output_type": "execute_result"
    }
   ],
   "source": [
    "classifier = RandomForestClassifier(n_estimators = 100,\n",
    "                                   criterion='gini',\n",
    "                                   min_samples_split=10,\n",
    "                                   min_samples_leaf=7)\n",
    "classifier.fit(X_train,y_train)"
   ]
  },
  {
   "cell_type": "markdown",
   "id": "8fc88342",
   "metadata": {
    "papermill": {
     "duration": 0.013179,
     "end_time": "2022-08-23T15:01:59.898114",
     "exception": false,
     "start_time": "2022-08-23T15:01:59.884935",
     "status": "completed"
    },
    "tags": []
   },
   "source": [
    "### Using the trained model we predict the y_pred values of the cross-validation set (X_val,y_val)"
   ]
  },
  {
   "cell_type": "code",
   "execution_count": 18,
   "id": "6279cc63",
   "metadata": {
    "execution": {
     "iopub.execute_input": "2022-08-23T15:01:59.927624Z",
     "iopub.status.busy": "2022-08-23T15:01:59.926783Z",
     "iopub.status.idle": "2022-08-23T15:01:59.948744Z",
     "shell.execute_reply": "2022-08-23T15:01:59.947576Z"
    },
    "papermill": {
     "duration": 0.04028,
     "end_time": "2022-08-23T15:01:59.951808",
     "exception": false,
     "start_time": "2022-08-23T15:01:59.911528",
     "status": "completed"
    },
    "tags": []
   },
   "outputs": [],
   "source": [
    "y_pred = classifier.predict(X_val)"
   ]
  },
  {
   "cell_type": "code",
   "execution_count": 19,
   "id": "d3cef3cc",
   "metadata": {
    "execution": {
     "iopub.execute_input": "2022-08-23T15:01:59.979366Z",
     "iopub.status.busy": "2022-08-23T15:01:59.978958Z",
     "iopub.status.idle": "2022-08-23T15:01:59.992342Z",
     "shell.execute_reply": "2022-08-23T15:01:59.988992Z"
    },
    "papermill": {
     "duration": 0.030622,
     "end_time": "2022-08-23T15:01:59.995440",
     "exception": false,
     "start_time": "2022-08-23T15:01:59.964818",
     "status": "completed"
    },
    "tags": []
   },
   "outputs": [
    {
     "name": "stdout",
     "output_type": "stream",
     "text": [
      "[[141  16]\n",
      " [ 42  68]]\n"
     ]
    },
    {
     "data": {
      "text/plain": [
       "0.7827715355805244"
      ]
     },
     "execution_count": 19,
     "metadata": {},
     "output_type": "execute_result"
    }
   ],
   "source": [
    "cm = confusion_matrix(y_val, y_pred)\n",
    "print(cm)\n",
    "accuracy_score(y_val, y_pred)"
   ]
  },
  {
   "cell_type": "code",
   "execution_count": 20,
   "id": "a3bf8387",
   "metadata": {
    "execution": {
     "iopub.execute_input": "2022-08-23T15:02:00.023785Z",
     "iopub.status.busy": "2022-08-23T15:02:00.023401Z",
     "iopub.status.idle": "2022-08-23T15:02:00.035042Z",
     "shell.execute_reply": "2022-08-23T15:02:00.033726Z"
    },
    "papermill": {
     "duration": 0.028351,
     "end_time": "2022-08-23T15:02:00.037308",
     "exception": false,
     "start_time": "2022-08-23T15:02:00.008957",
     "status": "completed"
    },
    "tags": []
   },
   "outputs": [
    {
     "name": "stdout",
     "output_type": "stream",
     "text": [
      "              precision    recall  f1-score   support\n",
      "\n",
      "           0       0.77      0.90      0.83       157\n",
      "           1       0.81      0.62      0.70       110\n",
      "\n",
      "    accuracy                           0.78       267\n",
      "   macro avg       0.79      0.76      0.77       267\n",
      "weighted avg       0.79      0.78      0.78       267\n",
      "\n"
     ]
    }
   ],
   "source": [
    "print(classification_report(y_val,y_pred))"
   ]
  },
  {
   "cell_type": "markdown",
   "id": "2d956874",
   "metadata": {
    "papermill": {
     "duration": 0.012641,
     "end_time": "2022-08-23T15:02:00.063114",
     "exception": false,
     "start_time": "2022-08-23T15:02:00.050473",
     "status": "completed"
    },
    "tags": []
   },
   "source": [
    "## Make predictions on test set and send it to submission"
   ]
  },
  {
   "cell_type": "code",
   "execution_count": 21,
   "id": "ae295588",
   "metadata": {
    "execution": {
     "iopub.execute_input": "2022-08-23T15:02:00.091399Z",
     "iopub.status.busy": "2022-08-23T15:02:00.090369Z",
     "iopub.status.idle": "2022-08-23T15:02:00.116909Z",
     "shell.execute_reply": "2022-08-23T15:02:00.115712Z"
    },
    "papermill": {
     "duration": 0.043368,
     "end_time": "2022-08-23T15:02:00.119434",
     "exception": false,
     "start_time": "2022-08-23T15:02:00.076066",
     "status": "completed"
    },
    "tags": []
   },
   "outputs": [
    {
     "data": {
      "text/html": [
       "<div>\n",
       "<style scoped>\n",
       "    .dataframe tbody tr th:only-of-type {\n",
       "        vertical-align: middle;\n",
       "    }\n",
       "\n",
       "    .dataframe tbody tr th {\n",
       "        vertical-align: top;\n",
       "    }\n",
       "\n",
       "    .dataframe thead th {\n",
       "        text-align: right;\n",
       "    }\n",
       "</style>\n",
       "<table border=\"1\" class=\"dataframe\">\n",
       "  <thead>\n",
       "    <tr style=\"text-align: right;\">\n",
       "      <th></th>\n",
       "      <th>PassengerId</th>\n",
       "      <th>Pclass</th>\n",
       "      <th>Name</th>\n",
       "      <th>Sex</th>\n",
       "      <th>Age</th>\n",
       "      <th>SibSp</th>\n",
       "      <th>Parch</th>\n",
       "      <th>Ticket</th>\n",
       "      <th>Fare</th>\n",
       "      <th>Cabin</th>\n",
       "      <th>Embarked</th>\n",
       "    </tr>\n",
       "  </thead>\n",
       "  <tbody>\n",
       "    <tr>\n",
       "      <th>0</th>\n",
       "      <td>892</td>\n",
       "      <td>3</td>\n",
       "      <td>Kelly, Mr. James</td>\n",
       "      <td>male</td>\n",
       "      <td>34.5</td>\n",
       "      <td>0</td>\n",
       "      <td>0</td>\n",
       "      <td>330911</td>\n",
       "      <td>7.8292</td>\n",
       "      <td>NaN</td>\n",
       "      <td>Q</td>\n",
       "    </tr>\n",
       "    <tr>\n",
       "      <th>1</th>\n",
       "      <td>893</td>\n",
       "      <td>3</td>\n",
       "      <td>Wilkes, Mrs. James (Ellen Needs)</td>\n",
       "      <td>female</td>\n",
       "      <td>47.0</td>\n",
       "      <td>1</td>\n",
       "      <td>0</td>\n",
       "      <td>363272</td>\n",
       "      <td>7.0000</td>\n",
       "      <td>NaN</td>\n",
       "      <td>S</td>\n",
       "    </tr>\n",
       "    <tr>\n",
       "      <th>2</th>\n",
       "      <td>894</td>\n",
       "      <td>2</td>\n",
       "      <td>Myles, Mr. Thomas Francis</td>\n",
       "      <td>male</td>\n",
       "      <td>62.0</td>\n",
       "      <td>0</td>\n",
       "      <td>0</td>\n",
       "      <td>240276</td>\n",
       "      <td>9.6875</td>\n",
       "      <td>NaN</td>\n",
       "      <td>Q</td>\n",
       "    </tr>\n",
       "    <tr>\n",
       "      <th>3</th>\n",
       "      <td>895</td>\n",
       "      <td>3</td>\n",
       "      <td>Wirz, Mr. Albert</td>\n",
       "      <td>male</td>\n",
       "      <td>27.0</td>\n",
       "      <td>0</td>\n",
       "      <td>0</td>\n",
       "      <td>315154</td>\n",
       "      <td>8.6625</td>\n",
       "      <td>NaN</td>\n",
       "      <td>S</td>\n",
       "    </tr>\n",
       "    <tr>\n",
       "      <th>4</th>\n",
       "      <td>896</td>\n",
       "      <td>3</td>\n",
       "      <td>Hirvonen, Mrs. Alexander (Helga E Lindqvist)</td>\n",
       "      <td>female</td>\n",
       "      <td>22.0</td>\n",
       "      <td>1</td>\n",
       "      <td>1</td>\n",
       "      <td>3101298</td>\n",
       "      <td>12.2875</td>\n",
       "      <td>NaN</td>\n",
       "      <td>S</td>\n",
       "    </tr>\n",
       "  </tbody>\n",
       "</table>\n",
       "</div>"
      ],
      "text/plain": [
       "   PassengerId  Pclass                                          Name     Sex  \\\n",
       "0          892       3                              Kelly, Mr. James    male   \n",
       "1          893       3              Wilkes, Mrs. James (Ellen Needs)  female   \n",
       "2          894       2                     Myles, Mr. Thomas Francis    male   \n",
       "3          895       3                              Wirz, Mr. Albert    male   \n",
       "4          896       3  Hirvonen, Mrs. Alexander (Helga E Lindqvist)  female   \n",
       "\n",
       "    Age  SibSp  Parch   Ticket     Fare Cabin Embarked  \n",
       "0  34.5      0      0   330911   7.8292   NaN        Q  \n",
       "1  47.0      1      0   363272   7.0000   NaN        S  \n",
       "2  62.0      0      0   240276   9.6875   NaN        Q  \n",
       "3  27.0      0      0   315154   8.6625   NaN        S  \n",
       "4  22.0      1      1  3101298  12.2875   NaN        S  "
      ]
     },
     "execution_count": 21,
     "metadata": {},
     "output_type": "execute_result"
    }
   ],
   "source": [
    "test_data = pd.read_csv(\"/kaggle/input/titanic/test.csv\")\n",
    "test_data.head()"
   ]
  },
  {
   "cell_type": "code",
   "execution_count": 22,
   "id": "da2c6fdb",
   "metadata": {
    "execution": {
     "iopub.execute_input": "2022-08-23T15:02:00.148739Z",
     "iopub.status.busy": "2022-08-23T15:02:00.147923Z",
     "iopub.status.idle": "2022-08-23T15:02:00.169628Z",
     "shell.execute_reply": "2022-08-23T15:02:00.168374Z"
    },
    "papermill": {
     "duration": 0.039307,
     "end_time": "2022-08-23T15:02:00.172212",
     "exception": false,
     "start_time": "2022-08-23T15:02:00.132905",
     "status": "completed"
    },
    "tags": []
   },
   "outputs": [
    {
     "data": {
      "text/html": [
       "<div>\n",
       "<style scoped>\n",
       "    .dataframe tbody tr th:only-of-type {\n",
       "        vertical-align: middle;\n",
       "    }\n",
       "\n",
       "    .dataframe tbody tr th {\n",
       "        vertical-align: top;\n",
       "    }\n",
       "\n",
       "    .dataframe thead th {\n",
       "        text-align: right;\n",
       "    }\n",
       "</style>\n",
       "<table border=\"1\" class=\"dataframe\">\n",
       "  <thead>\n",
       "    <tr style=\"text-align: right;\">\n",
       "      <th></th>\n",
       "      <th>Pclass</th>\n",
       "      <th>Sex</th>\n",
       "      <th>Age</th>\n",
       "      <th>SibSp</th>\n",
       "      <th>Parch</th>\n",
       "      <th>Fare</th>\n",
       "      <th>Embarked</th>\n",
       "    </tr>\n",
       "  </thead>\n",
       "  <tbody>\n",
       "    <tr>\n",
       "      <th>0</th>\n",
       "      <td>3</td>\n",
       "      <td>male</td>\n",
       "      <td>34.5</td>\n",
       "      <td>0</td>\n",
       "      <td>0</td>\n",
       "      <td>7.8292</td>\n",
       "      <td>Q</td>\n",
       "    </tr>\n",
       "    <tr>\n",
       "      <th>1</th>\n",
       "      <td>3</td>\n",
       "      <td>female</td>\n",
       "      <td>47.0</td>\n",
       "      <td>1</td>\n",
       "      <td>0</td>\n",
       "      <td>7.0000</td>\n",
       "      <td>S</td>\n",
       "    </tr>\n",
       "    <tr>\n",
       "      <th>2</th>\n",
       "      <td>2</td>\n",
       "      <td>male</td>\n",
       "      <td>62.0</td>\n",
       "      <td>0</td>\n",
       "      <td>0</td>\n",
       "      <td>9.6875</td>\n",
       "      <td>Q</td>\n",
       "    </tr>\n",
       "    <tr>\n",
       "      <th>3</th>\n",
       "      <td>3</td>\n",
       "      <td>male</td>\n",
       "      <td>27.0</td>\n",
       "      <td>0</td>\n",
       "      <td>0</td>\n",
       "      <td>8.6625</td>\n",
       "      <td>S</td>\n",
       "    </tr>\n",
       "    <tr>\n",
       "      <th>4</th>\n",
       "      <td>3</td>\n",
       "      <td>female</td>\n",
       "      <td>22.0</td>\n",
       "      <td>1</td>\n",
       "      <td>1</td>\n",
       "      <td>12.2875</td>\n",
       "      <td>S</td>\n",
       "    </tr>\n",
       "    <tr>\n",
       "      <th>...</th>\n",
       "      <td>...</td>\n",
       "      <td>...</td>\n",
       "      <td>...</td>\n",
       "      <td>...</td>\n",
       "      <td>...</td>\n",
       "      <td>...</td>\n",
       "      <td>...</td>\n",
       "    </tr>\n",
       "    <tr>\n",
       "      <th>413</th>\n",
       "      <td>3</td>\n",
       "      <td>male</td>\n",
       "      <td>NaN</td>\n",
       "      <td>0</td>\n",
       "      <td>0</td>\n",
       "      <td>8.0500</td>\n",
       "      <td>S</td>\n",
       "    </tr>\n",
       "    <tr>\n",
       "      <th>414</th>\n",
       "      <td>1</td>\n",
       "      <td>female</td>\n",
       "      <td>39.0</td>\n",
       "      <td>0</td>\n",
       "      <td>0</td>\n",
       "      <td>108.9000</td>\n",
       "      <td>C</td>\n",
       "    </tr>\n",
       "    <tr>\n",
       "      <th>415</th>\n",
       "      <td>3</td>\n",
       "      <td>male</td>\n",
       "      <td>38.5</td>\n",
       "      <td>0</td>\n",
       "      <td>0</td>\n",
       "      <td>7.2500</td>\n",
       "      <td>S</td>\n",
       "    </tr>\n",
       "    <tr>\n",
       "      <th>416</th>\n",
       "      <td>3</td>\n",
       "      <td>male</td>\n",
       "      <td>NaN</td>\n",
       "      <td>0</td>\n",
       "      <td>0</td>\n",
       "      <td>8.0500</td>\n",
       "      <td>S</td>\n",
       "    </tr>\n",
       "    <tr>\n",
       "      <th>417</th>\n",
       "      <td>3</td>\n",
       "      <td>male</td>\n",
       "      <td>NaN</td>\n",
       "      <td>1</td>\n",
       "      <td>1</td>\n",
       "      <td>22.3583</td>\n",
       "      <td>C</td>\n",
       "    </tr>\n",
       "  </tbody>\n",
       "</table>\n",
       "<p>418 rows × 7 columns</p>\n",
       "</div>"
      ],
      "text/plain": [
       "     Pclass     Sex   Age  SibSp  Parch      Fare Embarked\n",
       "0         3    male  34.5      0      0    7.8292        Q\n",
       "1         3  female  47.0      1      0    7.0000        S\n",
       "2         2    male  62.0      0      0    9.6875        Q\n",
       "3         3    male  27.0      0      0    8.6625        S\n",
       "4         3  female  22.0      1      1   12.2875        S\n",
       "..      ...     ...   ...    ...    ...       ...      ...\n",
       "413       3    male   NaN      0      0    8.0500        S\n",
       "414       1  female  39.0      0      0  108.9000        C\n",
       "415       3    male  38.5      0      0    7.2500        S\n",
       "416       3    male   NaN      0      0    8.0500        S\n",
       "417       3    male   NaN      1      1   22.3583        C\n",
       "\n",
       "[418 rows x 7 columns]"
      ]
     },
     "execution_count": 22,
     "metadata": {},
     "output_type": "execute_result"
    }
   ],
   "source": [
    "X_test = test_data[good_features]\n",
    "X_test"
   ]
  },
  {
   "cell_type": "code",
   "execution_count": 23,
   "id": "8d2d97e8",
   "metadata": {
    "execution": {
     "iopub.execute_input": "2022-08-23T15:02:00.201505Z",
     "iopub.status.busy": "2022-08-23T15:02:00.200758Z",
     "iopub.status.idle": "2022-08-23T15:02:00.210371Z",
     "shell.execute_reply": "2022-08-23T15:02:00.209377Z"
    },
    "papermill": {
     "duration": 0.027078,
     "end_time": "2022-08-23T15:02:00.212995",
     "exception": false,
     "start_time": "2022-08-23T15:02:00.185917",
     "status": "completed"
    },
    "tags": []
   },
   "outputs": [
    {
     "data": {
      "text/plain": [
       "Pclass       0\n",
       "Sex          0\n",
       "Age         86\n",
       "SibSp        0\n",
       "Parch        0\n",
       "Fare         1\n",
       "Embarked     0\n",
       "dtype: int64"
      ]
     },
     "execution_count": 23,
     "metadata": {},
     "output_type": "execute_result"
    }
   ],
   "source": [
    "X_test.isna().sum()"
   ]
  },
  {
   "cell_type": "code",
   "execution_count": 24,
   "id": "f4dcb501",
   "metadata": {
    "execution": {
     "iopub.execute_input": "2022-08-23T15:02:00.243372Z",
     "iopub.status.busy": "2022-08-23T15:02:00.242578Z",
     "iopub.status.idle": "2022-08-23T15:02:00.259095Z",
     "shell.execute_reply": "2022-08-23T15:02:00.258006Z"
    },
    "papermill": {
     "duration": 0.035002,
     "end_time": "2022-08-23T15:02:00.262137",
     "exception": false,
     "start_time": "2022-08-23T15:02:00.227135",
     "status": "completed"
    },
    "tags": []
   },
   "outputs": [
    {
     "name": "stderr",
     "output_type": "stream",
     "text": [
      "/opt/conda/lib/python3.7/site-packages/pandas/core/generic.py:6392: SettingWithCopyWarning: \n",
      "A value is trying to be set on a copy of a slice from a DataFrame\n",
      "\n",
      "See the caveats in the documentation: https://pandas.pydata.org/pandas-docs/stable/user_guide/indexing.html#returning-a-view-versus-a-copy\n",
      "  return self._update_inplace(result)\n"
     ]
    }
   ],
   "source": [
    "#fill the null values with the mean\n",
    "X_test['Age'].fillna(X_test['Age'].mean(),\n",
    "                 inplace=True)\n",
    "\n",
    "X_test['Fare'].fillna(X_test['Fare'].mean(),\n",
    "                 inplace=True)"
   ]
  },
  {
   "cell_type": "code",
   "execution_count": 25,
   "id": "0daa2488",
   "metadata": {
    "execution": {
     "iopub.execute_input": "2022-08-23T15:02:00.293040Z",
     "iopub.status.busy": "2022-08-23T15:02:00.291860Z",
     "iopub.status.idle": "2022-08-23T15:02:00.314135Z",
     "shell.execute_reply": "2022-08-23T15:02:00.312767Z"
    },
    "papermill": {
     "duration": 0.040395,
     "end_time": "2022-08-23T15:02:00.316649",
     "exception": false,
     "start_time": "2022-08-23T15:02:00.276254",
     "status": "completed"
    },
    "tags": []
   },
   "outputs": [
    {
     "data": {
      "text/html": [
       "<div>\n",
       "<style scoped>\n",
       "    .dataframe tbody tr th:only-of-type {\n",
       "        vertical-align: middle;\n",
       "    }\n",
       "\n",
       "    .dataframe tbody tr th {\n",
       "        vertical-align: top;\n",
       "    }\n",
       "\n",
       "    .dataframe thead th {\n",
       "        text-align: right;\n",
       "    }\n",
       "</style>\n",
       "<table border=\"1\" class=\"dataframe\">\n",
       "  <thead>\n",
       "    <tr style=\"text-align: right;\">\n",
       "      <th></th>\n",
       "      <th>Pclass</th>\n",
       "      <th>Sex</th>\n",
       "      <th>Age</th>\n",
       "      <th>SibSp</th>\n",
       "      <th>Parch</th>\n",
       "      <th>Fare</th>\n",
       "      <th>Embarked</th>\n",
       "    </tr>\n",
       "  </thead>\n",
       "  <tbody>\n",
       "    <tr>\n",
       "      <th>0</th>\n",
       "      <td>3</td>\n",
       "      <td>male</td>\n",
       "      <td>34.50000</td>\n",
       "      <td>0</td>\n",
       "      <td>0</td>\n",
       "      <td>7.8292</td>\n",
       "      <td>Q</td>\n",
       "    </tr>\n",
       "    <tr>\n",
       "      <th>1</th>\n",
       "      <td>3</td>\n",
       "      <td>female</td>\n",
       "      <td>47.00000</td>\n",
       "      <td>1</td>\n",
       "      <td>0</td>\n",
       "      <td>7.0000</td>\n",
       "      <td>S</td>\n",
       "    </tr>\n",
       "    <tr>\n",
       "      <th>2</th>\n",
       "      <td>2</td>\n",
       "      <td>male</td>\n",
       "      <td>62.00000</td>\n",
       "      <td>0</td>\n",
       "      <td>0</td>\n",
       "      <td>9.6875</td>\n",
       "      <td>Q</td>\n",
       "    </tr>\n",
       "    <tr>\n",
       "      <th>3</th>\n",
       "      <td>3</td>\n",
       "      <td>male</td>\n",
       "      <td>27.00000</td>\n",
       "      <td>0</td>\n",
       "      <td>0</td>\n",
       "      <td>8.6625</td>\n",
       "      <td>S</td>\n",
       "    </tr>\n",
       "    <tr>\n",
       "      <th>4</th>\n",
       "      <td>3</td>\n",
       "      <td>female</td>\n",
       "      <td>22.00000</td>\n",
       "      <td>1</td>\n",
       "      <td>1</td>\n",
       "      <td>12.2875</td>\n",
       "      <td>S</td>\n",
       "    </tr>\n",
       "    <tr>\n",
       "      <th>...</th>\n",
       "      <td>...</td>\n",
       "      <td>...</td>\n",
       "      <td>...</td>\n",
       "      <td>...</td>\n",
       "      <td>...</td>\n",
       "      <td>...</td>\n",
       "      <td>...</td>\n",
       "    </tr>\n",
       "    <tr>\n",
       "      <th>413</th>\n",
       "      <td>3</td>\n",
       "      <td>male</td>\n",
       "      <td>30.27259</td>\n",
       "      <td>0</td>\n",
       "      <td>0</td>\n",
       "      <td>8.0500</td>\n",
       "      <td>S</td>\n",
       "    </tr>\n",
       "    <tr>\n",
       "      <th>414</th>\n",
       "      <td>1</td>\n",
       "      <td>female</td>\n",
       "      <td>39.00000</td>\n",
       "      <td>0</td>\n",
       "      <td>0</td>\n",
       "      <td>108.9000</td>\n",
       "      <td>C</td>\n",
       "    </tr>\n",
       "    <tr>\n",
       "      <th>415</th>\n",
       "      <td>3</td>\n",
       "      <td>male</td>\n",
       "      <td>38.50000</td>\n",
       "      <td>0</td>\n",
       "      <td>0</td>\n",
       "      <td>7.2500</td>\n",
       "      <td>S</td>\n",
       "    </tr>\n",
       "    <tr>\n",
       "      <th>416</th>\n",
       "      <td>3</td>\n",
       "      <td>male</td>\n",
       "      <td>30.27259</td>\n",
       "      <td>0</td>\n",
       "      <td>0</td>\n",
       "      <td>8.0500</td>\n",
       "      <td>S</td>\n",
       "    </tr>\n",
       "    <tr>\n",
       "      <th>417</th>\n",
       "      <td>3</td>\n",
       "      <td>male</td>\n",
       "      <td>30.27259</td>\n",
       "      <td>1</td>\n",
       "      <td>1</td>\n",
       "      <td>22.3583</td>\n",
       "      <td>C</td>\n",
       "    </tr>\n",
       "  </tbody>\n",
       "</table>\n",
       "<p>418 rows × 7 columns</p>\n",
       "</div>"
      ],
      "text/plain": [
       "     Pclass     Sex       Age  SibSp  Parch      Fare Embarked\n",
       "0         3    male  34.50000      0      0    7.8292        Q\n",
       "1         3  female  47.00000      1      0    7.0000        S\n",
       "2         2    male  62.00000      0      0    9.6875        Q\n",
       "3         3    male  27.00000      0      0    8.6625        S\n",
       "4         3  female  22.00000      1      1   12.2875        S\n",
       "..      ...     ...       ...    ...    ...       ...      ...\n",
       "413       3    male  30.27259      0      0    8.0500        S\n",
       "414       1  female  39.00000      0      0  108.9000        C\n",
       "415       3    male  38.50000      0      0    7.2500        S\n",
       "416       3    male  30.27259      0      0    8.0500        S\n",
       "417       3    male  30.27259      1      1   22.3583        C\n",
       "\n",
       "[418 rows x 7 columns]"
      ]
     },
     "execution_count": 25,
     "metadata": {},
     "output_type": "execute_result"
    }
   ],
   "source": [
    "X_test"
   ]
  },
  {
   "cell_type": "code",
   "execution_count": 26,
   "id": "0a549ffb",
   "metadata": {
    "execution": {
     "iopub.execute_input": "2022-08-23T15:02:00.346605Z",
     "iopub.status.busy": "2022-08-23T15:02:00.346153Z",
     "iopub.status.idle": "2022-08-23T15:02:00.358811Z",
     "shell.execute_reply": "2022-08-23T15:02:00.357755Z"
    },
    "papermill": {
     "duration": 0.030417,
     "end_time": "2022-08-23T15:02:00.361180",
     "exception": false,
     "start_time": "2022-08-23T15:02:00.330763",
     "status": "completed"
    },
    "tags": []
   },
   "outputs": [
    {
     "data": {
      "text/plain": [
       "(418, 12)"
      ]
     },
     "execution_count": 26,
     "metadata": {},
     "output_type": "execute_result"
    }
   ],
   "source": [
    "X_test = np.array(ct.transform(X_test))\n",
    "X_test.shape"
   ]
  },
  {
   "cell_type": "code",
   "execution_count": 27,
   "id": "df6baa97",
   "metadata": {
    "execution": {
     "iopub.execute_input": "2022-08-23T15:02:00.391969Z",
     "iopub.status.busy": "2022-08-23T15:02:00.390842Z",
     "iopub.status.idle": "2022-08-23T15:02:00.398509Z",
     "shell.execute_reply": "2022-08-23T15:02:00.397589Z"
    },
    "papermill": {
     "duration": 0.025454,
     "end_time": "2022-08-23T15:02:00.400844",
     "exception": false,
     "start_time": "2022-08-23T15:02:00.375390",
     "status": "completed"
    },
    "tags": []
   },
   "outputs": [
    {
     "data": {
      "text/plain": [
       "array([ 0.,  0.,  1.,  1.,  0.,  0.,  0.,  1., 47.,  1.,  0.,  7.])"
      ]
     },
     "execution_count": 27,
     "metadata": {},
     "output_type": "execute_result"
    }
   ],
   "source": [
    "X_test[1,:]"
   ]
  },
  {
   "cell_type": "code",
   "execution_count": 28,
   "id": "8f5a88b7",
   "metadata": {
    "execution": {
     "iopub.execute_input": "2022-08-23T15:02:00.431764Z",
     "iopub.status.busy": "2022-08-23T15:02:00.431364Z",
     "iopub.status.idle": "2022-08-23T15:02:00.437406Z",
     "shell.execute_reply": "2022-08-23T15:02:00.436174Z"
    },
    "papermill": {
     "duration": 0.023915,
     "end_time": "2022-08-23T15:02:00.439798",
     "exception": false,
     "start_time": "2022-08-23T15:02:00.415883",
     "status": "completed"
    },
    "tags": []
   },
   "outputs": [],
   "source": [
    "X_test[:,8:] = sc.transform(X_test[:,8:])"
   ]
  },
  {
   "cell_type": "code",
   "execution_count": 29,
   "id": "c923be64",
   "metadata": {
    "execution": {
     "iopub.execute_input": "2022-08-23T15:02:00.470648Z",
     "iopub.status.busy": "2022-08-23T15:02:00.469848Z",
     "iopub.status.idle": "2022-08-23T15:02:00.494767Z",
     "shell.execute_reply": "2022-08-23T15:02:00.493604Z"
    },
    "papermill": {
     "duration": 0.043442,
     "end_time": "2022-08-23T15:02:00.497513",
     "exception": false,
     "start_time": "2022-08-23T15:02:00.454071",
     "status": "completed"
    },
    "tags": []
   },
   "outputs": [],
   "source": [
    "predictions = classifier.predict(X_test)"
   ]
  },
  {
   "cell_type": "code",
   "execution_count": 30,
   "id": "08c8f149",
   "metadata": {
    "execution": {
     "iopub.execute_input": "2022-08-23T15:02:00.528612Z",
     "iopub.status.busy": "2022-08-23T15:02:00.527759Z",
     "iopub.status.idle": "2022-08-23T15:02:00.537340Z",
     "shell.execute_reply": "2022-08-23T15:02:00.536485Z"
    },
    "papermill": {
     "duration": 0.028031,
     "end_time": "2022-08-23T15:02:00.539926",
     "exception": false,
     "start_time": "2022-08-23T15:02:00.511895",
     "status": "completed"
    },
    "tags": []
   },
   "outputs": [],
   "source": [
    "#saving output in submission.csv\n",
    "output = pd.DataFrame({'PassengerId': test_data.PassengerId,\n",
    "                       'Survived': predictions})\n",
    "output.to_csv('submission.csv', index=False)"
   ]
  },
  {
   "cell_type": "code",
   "execution_count": null,
   "id": "8af8dcb3",
   "metadata": {
    "papermill": {
     "duration": 0.014935,
     "end_time": "2022-08-23T15:02:00.569838",
     "exception": false,
     "start_time": "2022-08-23T15:02:00.554903",
     "status": "completed"
    },
    "tags": []
   },
   "outputs": [],
   "source": []
  }
 ],
 "metadata": {
  "kernelspec": {
   "display_name": "Python 3",
   "language": "python",
   "name": "python3"
  },
  "language_info": {
   "codemirror_mode": {
    "name": "ipython",
    "version": 3
   },
   "file_extension": ".py",
   "mimetype": "text/x-python",
   "name": "python",
   "nbconvert_exporter": "python",
   "pygments_lexer": "ipython3",
   "version": "3.7.12"
  },
  "papermill": {
   "default_parameters": {},
   "duration": 14.639865,
   "end_time": "2022-08-23T15:02:01.406132",
   "environment_variables": {},
   "exception": null,
   "input_path": "__notebook__.ipynb",
   "output_path": "__notebook__.ipynb",
   "parameters": {},
   "start_time": "2022-08-23T15:01:46.766267",
   "version": "2.3.4"
  }
 },
 "nbformat": 4,
 "nbformat_minor": 5
}
